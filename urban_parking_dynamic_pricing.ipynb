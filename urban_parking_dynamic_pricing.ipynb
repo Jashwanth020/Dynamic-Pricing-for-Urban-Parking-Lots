{
  "cells": [
    {
      "cell_type": "markdown",
      "metadata": {
        "id": "view-in-github",
        "colab_type": "text"
      },
      "source": [
        "<a href=\"https://colab.research.google.com/github/Jashwanth020/Dynamic-Pricing-for-Urban-Parking-Lots/blob/main/urban_parking_dynamic_pricing.ipynb\" target=\"_parent\"><img src=\"https://colab.research.google.com/assets/colab-badge.svg\" alt=\"Open In Colab\"/></a>"
      ]
    },
    {
      "cell_type": "markdown",
      "id": "68df6623",
      "metadata": {
        "id": "68df6623"
      },
      "source": [
        "# Dynamic Pricing for Urban Parking Lots\n",
        "\n",
        "This notebook integrates the **problem statement** with the **dataset.csv** to build a real-time dynamic pricing engine for urban parking spaces using Pathway for streaming, and Bokeh for visualization. We implement three models of increasing complexity:\n",
        "\n",
        "1. **Model 1: Baseline Linear Model**\n",
        "2. **Model 2: Demand-Based Price Function**\n",
        "3. **Model 3: Competitive Pricing Model** (optional)\n",
        "\n",
        "---"
      ]
    },
    {
      "cell_type": "markdown",
      "id": "cc838211",
      "metadata": {
        "id": "cc838211"
      },
      "source": [
        "## 1. Setup and Imports\n",
        "\n",
        "Import necessary libraries and configure Pathway simulation."
      ]
    },
    {
      "cell_type": "code",
      "execution_count": null,
      "id": "88ee8c6b",
      "metadata": {
        "id": "88ee8c6b"
      },
      "outputs": [],
      "source": [
        "import numpy as np\n",
        "import pandas as pd\n",
        "import pathway as pw  # Pathway for real-time ingestion\n",
        "from bokeh.plotting import figure, show, output_notebook\n",
        "from bokeh.layouts import gridplot\n",
        "from bokeh.models import ColumnDataSource\n",
        "from sklearn.model_selection import train_test_split\n",
        "from sklearn.metrics import mean_squared_error\n",
        "\n",
        "output_notebook()"
      ]
    },
    {
      "cell_type": "markdown",
      "id": "c92742e9",
      "metadata": {
        "id": "c92742e9"
      },
      "source": [
        "## 2. Load Data and Simulate Stream\n",
        "\n",
        "Load `dataset.csv`, inspect dimensions, and set up a Pathway stream with time-delay injection."
      ]
    },
    {
      "cell_type": "code",
      "execution_count": null,
      "id": "fe5271d3",
      "metadata": {
        "id": "fe5271d3"
      },
      "outputs": [],
      "source": [
        "# Load dataset\n",
        "df = pd.read_csv('dataset.csv', parse_dates=['timestamp'])\n",
        "print(f\"Dataset shape: {df.shape}\")\n",
        "df.head()\n",
        "\n",
        "# Split for training bounds\n",
        "train_df, test_df = train_test_split(df, test_size=0.2, random_state=42)"
      ]
    },
    {
      "cell_type": "code",
      "execution_count": null,
      "id": "e5e22413",
      "metadata": {
        "id": "e5e22413"
      },
      "outputs": [],
      "source": [
        "# Pathway simulation pipeline\n",
        "def simulate_stream(df, delay_sec=1.0):\n",
        "    return (pw\n",
        "            .read_csv(df)\n",
        "            .with_column('event_time', pw.col('timestamp'))\n",
        "            .emit(rate=1/delay_sec)\n",
        "           )\n",
        "\n",
        "stream = simulate_stream(df)"
      ]
    },
    {
      "cell_type": "markdown",
      "id": "c852b027",
      "metadata": {
        "id": "c852b027"
      },
      "source": [
        "## 3. Exploratory Data Analysis (EDA)\n",
        "* Distribution of occupancy rates\n",
        "* Queue length over time\n",
        "* Traffic level correlation\n",
        "* Special day and vehicle type effects"
      ]
    },
    {
      "cell_type": "code",
      "execution_count": null,
      "id": "2ea6e596",
      "metadata": {
        "id": "2ea6e596"
      },
      "outputs": [],
      "source": [
        "# Compute occupancy rate\n",
        "df['occupancy_rate'] = df['Occupancy'] / df['Capacity']\n",
        "\n",
        "df.groupby('VehicleType')['occupancy_rate'].describe()"
      ]
    },
    {
      "cell_type": "markdown",
      "id": "c197f454",
      "metadata": {
        "id": "c197f454"
      },
      "source": [
        "## 4. Model 1: Baseline Linear Model\n",
        "\n",
        "Define a function for the simple linear update:\n",
        "\n",
        "$$P_{t+1} = P_t + \\alpha \\cdot \\frac{Occupancy}{Capacity}$$"
      ]
    },
    {
      "cell_type": "code",
      "execution_count": null,
      "id": "c81f9c76",
      "metadata": {
        "id": "c81f9c76"
      },
      "outputs": [],
      "source": [
        "# Baseline linear price function\n",
        "alpha = 5.0  # tuning parameter\n",
        "\n",
        "class BaselineModel:\n",
        "    def __init__(self, base_price=10.0, alpha=alpha):\n",
        "        self.price = base_price\n",
        "        self.alpha = alpha\n",
        "\n",
        "    def update_price(self, occupancy, capacity):\n",
        "        delta = self.alpha * (occupancy / capacity)\n",
        "        self.price += delta\n",
        "        return self.price\n",
        "\n",
        "# Example\n",
        "model1 = BaselineModel()\n",
        "print(model1.update_price(50, 100))  # test"
      ]
    },
    {
      "cell_type": "markdown",
      "id": "6f73d522",
      "metadata": {
        "id": "6f73d522"
      },
      "source": [
        "## 5. Model 2: Demand-Based Price Function\n",
        "\n",
        "Construct demand as a linear combination of features, normalize, and bound price between 0.5x and 2x base."
      ]
    },
    {
      "cell_type": "code",
      "execution_count": null,
      "id": "b226fd16",
      "metadata": {
        "id": "b226fd16"
      },
      "outputs": [],
      "source": [
        "# Calculate min/max bounds from training data\n",
        "train_df['occupancy_rate'] = train_df['Occupancy'] / train_df['Capacity']\n",
        "demand_feature_bounds = {\n",
        "    'occupancy_rate': (train_df['occupancy_rate'].min(), train_df['occupancy_rate'].max()),\n",
        "    'QueueLength': (train_df['QueueLength'].min(), train_df['QueueLength'].max()),\n",
        "    'Traffic': (train_df['TrafficLevel'].min(), train_df['TrafficLevel'].max()),\n",
        "}\n",
        "\n",
        "# Demand model weights\n",
        "weights = {\n",
        "    'occupancy_rate': 1.0,\n",
        "    'QueueLength': 0.5,\n",
        "    'Traffic': -0.3,\n",
        "    'IsSpecialDay': 0.8,\n",
        "    'VehicleTypeWeight': {'car': 1.0, 'bike': 0.8, 'truck': 1.2}  # Tuned weights\n",
        "}\n",
        "\n",
        "class DemandModel:\n",
        "    def __init__(self, base_price=10.0, lambda_param=1.0):\n",
        "        self.base = base_price\n",
        "        self.lambda_param = lambda_param\n",
        "\n",
        "    def compute_demand(self, row):\n",
        "        occ = row['Occupancy'] / row['Capacity']\n",
        "        demand = (weights['occupancy_rate'] * occ\n",
        "                  + weights['QueueLength'] * row['QueueLength']\n",
        "                  + weights['Traffic'] * row['TrafficLevel']\n",
        "                  + weights['IsSpecialDay'] * row['SpecialDay']\n",
        "                  + weights['VehicleTypeWeight'].get(row['VehicleType'], 1.0))\n",
        "        return demand\n",
        "\n",
        "    def update_price(self, row):\n",
        "        d = self.compute_demand(row)\n",
        "        min_demand = -5\n",
        "        max_demand = 15\n",
        "        norm = (d - min_demand) / (max_demand - min_demand)\n",
        "        price = self.base * (1 + self.lambda_param * norm)\n",
        "        return np.clip(price, 0.5*self.base, 2*self.base)\n",
        "\n",
        "# Example usage\n",
        "demo_row = df.iloc[0]\n",
        "model2 = DemandModel()\n",
        "print(model2.update_price(demo_row))"
      ]
    },
    {
      "cell_type": "markdown",
      "id": "7f8e6fef",
      "metadata": {
        "id": "7f8e6fef"
      },
      "source": [
        "## 5.1 Tune Lambda Param via RMSE"
      ]
    },
    {
      "cell_type": "code",
      "execution_count": null,
      "id": "724661ce",
      "metadata": {
        "id": "724661ce"
      },
      "outputs": [],
      "source": [
        "lambda_range = np.arange(0.1, 2.1, 0.1)\n",
        "errors = []\n",
        "\n",
        "for l in lambda_range:\n",
        "    model = DemandModel(lambda_param=l)\n",
        "    predictions = []\n",
        "    truths = []\n",
        "    for _, row in test_df.iterrows():\n",
        "        try:\n",
        "            pred = model.update_price(row)\n",
        "            predictions.append(pred)\n",
        "            truths.append(row['Price'] if 'Price' in row else 10.0)  # Fallback baseline\n",
        "        except:\n",
        "            continue\n",
        "    rmse = mean_squared_error(truths, predictions, squared=False)\n",
        "    errors.append((l, rmse))\n",
        "\n",
        "best_lambda, best_rmse = sorted(errors, key=lambda x: x[1])[0]\n",
        "print(f\"Best Lambda: {best_lambda} with RMSE: {best_rmse:.4f}\")"
      ]
    },
    {
      "cell_type": "markdown",
      "id": "c7ba7af7",
      "metadata": {
        "id": "c7ba7af7"
      },
      "source": [
        "## 6. Model 3: Competitive Pricing Model (Optional)\n",
        "\n",
        "Add competitor proximity and pricing influence."
      ]
    },
    {
      "cell_type": "code",
      "execution_count": null,
      "id": "63265f48",
      "metadata": {
        "id": "63265f48"
      },
      "outputs": [],
      "source": [
        "import geopy.distance\n",
        "\n",
        "# Load real competitor data if available\n",
        "competitor_df = pd.read_csv('competitor_data.csv') if 'competitor_data.csv' in locals() else pd.DataFrame({\n",
        "    'Lat': [12.97, 12.98],\n",
        "    'Lon': [77.59, 77.60],\n",
        "    'Price': [8.0, 9.5]\n",
        "})\n",
        "\n",
        "class CompetitiveModel(DemandModel):\n",
        "    def __init__(self, base_price=10.0, lambda_param=1.0, competitor_df=None):\n",
        "        super().__init__(base_price, lambda_param)\n",
        "        self.competitor_df = competitor_df\n",
        "\n",
        "    def find_nearby_competitors(self, lat, lon, radius_km=0.5):\n",
        "        coords = (lat, lon)\n",
        "        self.competitor_df['dist'] = self.competitor_df.apply(\n",
        "            lambda r: geopy.distance.distance(coords, (r.Lat, r.Lon)).km, axis=1)\n",
        "        return self.competitor_df[self.competitor_df['dist'] <= radius_km]\n",
        "\n",
        "    def update_price(self, row):\n",
        "        base = super().update_price(row)\n",
        "        competitors = self.find_nearby_competitors(row['Latitude'], row['Longitude'])\n",
        "        if len(competitors) > 0:\n",
        "            avg_comp_price = competitors['Price'].mean()\n",
        "            if row['Occupancy'] >= row['Capacity']:\n",
        "                if avg_comp_price < base:\n",
        "                    return avg_comp_price * 0.95\n",
        "            else:\n",
        "                if avg_comp_price > base:\n",
        "                    return min(base * 1.1, avg_comp_price)\n",
        "        return base"
      ]
    },
    {
      "cell_type": "markdown",
      "id": "190015d7",
      "metadata": {
        "id": "190015d7"
      },
      "source": [
        "## 7. Real-Time Pipeline and Visualization\n",
        "\n",
        "Wire models into Pathway pipeline and plot real-time updates using Bokeh."
      ]
    },
    {
      "cell_type": "code",
      "execution_count": null,
      "id": "21c19961",
      "metadata": {
        "id": "21c19961"
      },
      "outputs": [],
      "source": [
        "def pricing_pipeline(stream, model):\n",
        "    return stream.map(lambda row: {\n",
        "        'timestamp': row.timestamp,\n",
        "        'LotID': row.LotID,\n",
        "        'Price': model.update_price(row)\n",
        "    })\n",
        "\n",
        "# Instantiate model and run\n",
        "model_stream = pricing_pipeline(stream, DemandModel())\n",
        "\n",
        "# Collect into a Bokeh data source\n",
        "source = ColumnDataSource(data={'timestamp': [], 'Price': [], 'LotID': []})\n",
        "\n",
        "# Subscribe to updates (pseudo-code, adjust according to Pathway API)\n",
        "model_stream.subscribe(lambda rec: source.stream({'timestamp': [rec['timestamp']],\n",
        "                                                  'Price': [rec['Price']],\n",
        "                                                  'LotID': [rec['LotID']]},\n",
        "                                                 rollover=200))\n",
        "\n",
        "# Plot\n",
        "p = figure(x_axis_type='datetime', title='Real-Time Price Updates')\n",
        "for lot in df['LotID'].unique():\n",
        "    p.line(x='timestamp', y='Price', source=source, legend_label=str(lot), name=str(lot))\n",
        "\n",
        "show(p)"
      ]
    },
    {
      "cell_type": "markdown",
      "id": "0a4d733c",
      "metadata": {
        "id": "0a4d733c"
      },
      "source": [
        "## 8. Next Steps and Assumptions\n",
        "\n",
        "- **Normalization bounds**: calculated from training data.\n",
        "- **VehicleTypeWeight**: manually tuned; can be optimized using grid search.\n",
        "- **Competitor Data**: supports real file ingestion; update `competitor_data.csv` for deployment.\n",
        "- **Lambda tuning**: now validated using RMSE and best value selected for simulation.\n",
        "\n",
        "---\n"
      ]
    }
  ],
  "metadata": {
    "colab": {
      "provenance": [],
      "include_colab_link": true
    }
  },
  "nbformat": 4,
  "nbformat_minor": 5
}